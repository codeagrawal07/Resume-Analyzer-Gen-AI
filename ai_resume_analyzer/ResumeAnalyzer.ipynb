{
 "cells": [
  {
   "cell_type": "code",
   "execution_count": 1,
   "id": "cc47e96e",
   "metadata": {},
   "outputs": [],
   "source": [
    "import os\n",
    "from dotenv import load_dotenv\n",
    "\n",
    "# Load the variables from .env into environment\n",
    "load_dotenv()\n",
    "\n",
    "# Access your key using os.getenv\n",
    "key = os.getenv(\"GOOGLE_API_KEY\")\n"
   ]
  },
  {
   "cell_type": "code",
   "execution_count": 2,
   "id": "bb9a6e63",
   "metadata": {},
   "outputs": [],
   "source": [
    "import google.generativeai as genai\n",
    "\n",
    "genai.configure(api_key=key)\n",
    "\n",
    "model=genai.GenerativeModel(model_name=\"gemini-1.5-flash\")\n",
    "\n"
   ]
  },
  {
   "cell_type": "code",
   "execution_count": 3,
   "id": "6cc6c106",
   "metadata": {},
   "outputs": [],
   "source": [
    "summary='''I am a final-year computer science student with a strong foundation in Python, machine learning, and data structures. \n",
    "I have worked on a traffic sign detection project using YOLOv8 and a weather prediction model using decision trees.\n",
    "I am also familiar with Git, VS Code, and have experience in developing small Python applications and web dashboards.'''\n",
    "\n",
    "prompt=f'''you are senior HR at microsoft and analysi the candidate's resume summary: {summary}.Think step-by-step find the strengths, weaknesses, and suitable roles.Return the output in JSON formate\n",
    "{{\n",
    "  \"skills\": [],\n",
    "  \"strengths\": \"\",\n",
    "  \"improvement_areas\": \"\",\n",
    "  \"suggested_roles\": [],\n",
    "  \"linkedin_headline\": \"\"\n",
    "}}\n",
    "'''"
   ]
  },
  {
   "cell_type": "code",
   "execution_count": 4,
   "id": "59452b70",
   "metadata": {},
   "outputs": [
    {
     "name": "stdout",
     "output_type": "stream",
     "text": [
      "```json\n",
      "{\n",
      "  \"skills\": [\"Python\", \"Machine Learning\", \"Data Structures\", \"YOLOv8\", \"Decision Trees\", \"Git\", \"VS Code\", \"Web Dashboard Development\", \"Traffic Sign Detection\", \"Weather Prediction Modeling\"],\n",
      "  \"strengths\": \"The candidate demonstrates a solid foundation in computer science fundamentals, including proficiency in Python and key machine learning concepts.  Their projects showcase practical application of these skills through the development of a traffic sign detection system (using a sophisticated model like YOLOv8) and a weather prediction model.  Experience with Git and VS Code indicates familiarity with collaborative development and standard tools.  The mention of developing small Python applications and web dashboards further highlights their practical coding abilities and potential for full-stack development.\",\n",
      "  \"improvement_areas\": \"The resume summary lacks quantification of achievements.  For example, mentioning the accuracy of the YOLOv8 model or the prediction accuracy of the weather model would significantly strengthen the impact.  The projects are described briefly; elaborating on challenges faced and solutions implemented would demonstrate problem-solving skills.  The phrase 'small Python applications' is vague and could benefit from more specific examples.  Finally, there's no mention of experience with databases or cloud technologies, which are often desirable in many Microsoft roles.\",\n",
      "  \"suggested_roles\": [\"Software Engineer (Entry Level)\", \"Data Scientist (Entry Level)\", \"Machine Learning Engineer (Entry Level)\", \"Software Engineering Intern\", \"Data Science Intern\"],\n",
      "  \"linkedin_headline\": \"Final-Year Computer Science Student | Machine Learning & Python | YOLOv8 & Decision Tree Projects\"\n",
      "}\n",
      "```\n",
      "\n"
     ]
    }
   ],
   "source": [
    "response=model.generate_content(prompt)\n",
    "\n",
    "print(response.text)\n"
   ]
  },
  {
   "cell_type": "code",
   "execution_count": 8,
   "id": "fce5eac5",
   "metadata": {},
   "outputs": [
    {
     "name": "stdout",
     "output_type": "stream",
     "text": [
      "Raw model output:\n",
      "\n",
      "```json\n",
      "{\n",
      "  \"skills\": [\"Python\", \"Machine Learning\", \"Data Structures\", \"YOLOv8\", \"Decision Trees\", \"Git\", \"VS Code\", \"Web Dashboard Development\", \"Traffic Sign Detection\", \"Weather Prediction Modeling\"],\n",
      "  \"strengths\": \"The candidate demonstrates a solid foundation in computer science fundamentals, including proficiency in Python and key machine learning concepts.  Their projects showcase practical application of these skills through the development of a traffic sign detection system (using a sophisticated model like YOLOv8) and a weather prediction model.  Experience with Git and VS Code indicates familiarity with collaborative development and standard tools.  The mention of developing small Python applications and web dashboards further highlights their practical coding abilities and potential for full-stack development.\",\n",
      "  \"improvement_areas\": \"The resume summary lacks quantification of achievements.  For example, mentioning the accuracy of the YOLOv8 model or the prediction accuracy of the weather model would significantly strengthen the impact.  The projects are described briefly; elaborating on challenges faced and solutions implemented would demonstrate problem-solving skills.  The phrase 'small Python applications' is vague and could benefit from more specific examples.  Finally, there's no mention of experience with databases or cloud technologies, which are often desirable in many Microsoft roles.\",\n",
      "  \"suggested_roles\": [\"Software Engineer (Entry Level)\", \"Data Scientist (Entry Level)\", \"Machine Learning Engineer (Entry Level)\", \"Software Engineering Intern\", \"Data Science Intern\"],\n",
      "  \"linkedin_headline\": \"Final-Year Computer Science Student | Machine Learning & Python | YOLOv8 & Decision Tree Projects\"\n",
      "}\n",
      "```\n",
      "\n",
      "JSON successfully saved to ResumeAnalyzer.json\n"
     ]
    }
   ],
   "source": [
    "import json\n",
    "import re\n",
    "\n",
    "# Step 1: Print the response text to see what's inside\n",
    "print(\"Raw model output:\\n\")\n",
    "print(response.text)\n",
    "\n",
    "# Step 2: Extract JSON using regex (handles extra text before/after)\n",
    "match = re.search(r\"\\{.*\\}\", response.text, re.DOTALL)\n",
    "\n",
    "if match:\n",
    "    json_str = match.group()\n",
    "    try:\n",
    "        clear_json = json.loads(json_str)\n",
    "        with open(\"ResumeAnalyzer.json\", \"w\") as f:\n",
    "            json.dump( clear_json, f, indent=2)\n",
    "        print(\"JSON successfully saved to ResumeAnalyzer.json\")\n",
    "    except json.JSONDecodeError as e:\n",
    "        print(\"JSON format still invalid. Error:\", e)\n",
    "else:\n",
    "    print(\"Could not find a valid JSON object in the response.\")\n"
   ]
  },
  {
   "cell_type": "code",
   "execution_count": null,
   "id": "cd58e9e4",
   "metadata": {},
   "outputs": [],
   "source": []
  }
 ],
 "metadata": {
  "kernelspec": {
   "display_name": "base",
   "language": "python",
   "name": "python3"
  },
  "language_info": {
   "codemirror_mode": {
    "name": "ipython",
    "version": 3
   },
   "file_extension": ".py",
   "mimetype": "text/x-python",
   "name": "python",
   "nbconvert_exporter": "python",
   "pygments_lexer": "ipython3",
   "version": "3.12.4"
  }
 },
 "nbformat": 4,
 "nbformat_minor": 5
}
